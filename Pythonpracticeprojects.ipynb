{
 "cells": [
  {
   "cell_type": "markdown",
   "metadata": {},
   "source": [
    "### Create Acronyms "
   ]
  },
  {
   "cell_type": "code",
   "execution_count": 1,
   "metadata": {},
   "outputs": [
    {
     "name": "stdout",
     "output_type": "stream",
     "text": [
      "Enter the text you need acronym forKavi Tandon yoga, mu\n",
      "KTym\n"
     ]
    }
   ],
   "source": [
    "user_text = input('Enter the text you need acronym for')\n",
    "\n",
    "split_user_text_into_words = user_text.split() \n",
    "'''split(separator, maxsplit), default separator = whitespace, \n",
    "   maxsplit = maximum number of splits.the string is split at most maxsplit number of times.'''\n",
    "\n",
    "acronym_for_user_text = ''\n",
    "for item in split_user_text_into_words:\n",
    "    acronym_for_user_text += item[0]\n",
    " \n",
    "print(acronym_for_user_text.upper())\n"
   ]
  },
  {
   "cell_type": "markdown",
   "metadata": {},
   "source": [
    "### Create Alarm clock"
   ]
  },
  {
   "cell_type": "code",
   "execution_count": 1,
   "metadata": {},
   "outputs": [
    {
     "name": "stdout",
     "output_type": "stream",
     "text": [
      "Enter the valid alarm time you want to set in the format: HH:MM:SS AM/PM \n",
      "08:45:00 pm\n",
      "Alarm set for 08:45:00 PM\n",
      "Wake Up!Wake Up!Wake Up!Wake Up!Wake Up!Wake Up!\n"
     ]
    },
    {
     "ename": "KeyboardInterrupt",
     "evalue": "",
     "output_type": "error",
     "traceback": [
      "\u001b[0;31m---------------------------------------------------------------------------\u001b[0m",
      "\u001b[0;31mKeyboardInterrupt\u001b[0m                         Traceback (most recent call last)",
      "Cell \u001b[0;32mIn[1], line 28\u001b[0m\n\u001b[1;32m     26\u001b[0m \u001b[38;5;28;01mif\u001b[39;00m(alarm_seconds \u001b[38;5;241m==\u001b[39m current_seconds):\n\u001b[1;32m     27\u001b[0m     \u001b[38;5;28mprint\u001b[39m(\u001b[38;5;124m\"\u001b[39m\u001b[38;5;124mWake Up!Wake Up!Wake Up!Wake Up!Wake Up!Wake Up!\u001b[39m\u001b[38;5;124m\"\u001b[39m)\n\u001b[0;32m---> 28\u001b[0m     playsound(\u001b[38;5;124m'\u001b[39m\u001b[38;5;124mAlarm.wav\u001b[39m\u001b[38;5;124m'\u001b[39m)\n\u001b[1;32m     29\u001b[0m     \u001b[38;5;28mprint\u001b[39m(\u001b[38;5;124m\"\u001b[39m\u001b[38;5;124mAlarm Complete\u001b[39m\u001b[38;5;124m\"\u001b[39m)\n\u001b[1;32m     30\u001b[0m     \u001b[38;5;28;01mbreak\u001b[39;00m\n",
      "File \u001b[0;32m~/anaconda3/lib/python3.11/site-packages/playsound.py:144\u001b[0m, in \u001b[0;36m_playsoundOSX\u001b[0;34m(sound, block)\u001b[0m\n\u001b[1;32m    141\u001b[0m nssound\u001b[38;5;241m.\u001b[39mplay()\n\u001b[1;32m    143\u001b[0m \u001b[38;5;28;01mif\u001b[39;00m block:\n\u001b[0;32m--> 144\u001b[0m     sleep(nssound\u001b[38;5;241m.\u001b[39mduration())\n",
      "\u001b[0;31mKeyboardInterrupt\u001b[0m: "
     ]
    }
   ],
   "source": [
    "from datetime import datetime   \n",
    "from playsound import playsound\n",
    "# from module import function/class\n",
    "\n",
    "set_alarm_time = (input(\"Enter the valid alarm time you want to set in the format: HH:MM:SS AM/PM \\n\")).upper()\n",
    "# specified the input format for user\n",
    "\n",
    "alarm_hour = set_alarm_time[0:2]\n",
    "alarm_minute = set_alarm_time[3:5]\n",
    "alarm_seconds = set_alarm_time[6:8]\n",
    "alarm_period = set_alarm_time[9:11].upper()\n",
    "print(f\"Alarm set for {set_alarm_time}\")\n",
    "\n",
    "while True:\n",
    "    now = datetime.now()\n",
    "    current_hour = now.strftime(\"%I\") \n",
    "    # strftime = string format time,\n",
    "    #is used to convert a datetime object into a string representation according to a specified format\n",
    "    current_minute = now.strftime(\"%M\")\n",
    "    current_seconds = now.strftime(\"%S\")\n",
    "    current_period = now.strftime(\"%p\")\n",
    "    \n",
    "    if(alarm_period == current_period):\n",
    "        if(alarm_hour == current_hour):\n",
    "            if(alarm_minute == current_minute):\n",
    "                if(alarm_seconds == current_seconds):\n",
    "                    print(\"Wake Up!Wake Up!Wake Up!Wake Up!Wake Up!Wake Up!\")\n",
    "                    playsound('Alarm.wav')\n",
    "                    print(\"Alarm Complete\")\n",
    "                    break"
   ]
  },
  {
   "cell_type": "markdown",
   "metadata": {},
   "source": [
    "### Create Email Slicer"
   ]
  },
  {
   "cell_type": "code",
   "execution_count": 3,
   "metadata": {},
   "outputs": [
    {
     "name": "stdout",
     "output_type": "stream",
     "text": [
      "Enter email address\n",
      "hgdjsgckjcxc@dbdsjkhdsk\n",
      "your username is hgdjsgckjcxc\n",
      "your domain name is dbdsjkhdsk\n"
     ]
    }
   ],
   "source": [
    "user_input = input('Enter email address\\n')\n",
    "\n",
    "for index, letter in enumerate(user_input):\n",
    "    if letter == '@':\n",
    "       position = index\n",
    "       break        \n",
    "        \n",
    "user_name = user_input[0:position]  \n",
    "domain = user_input[position+1:len(user_input)]\n",
    "\n",
    "print(f'your username is {user_name}')\n",
    "print(f'your domain name is {domain}')"
   ]
  },
  {
   "cell_type": "code",
   "execution_count": 2,
   "metadata": {},
   "outputs": [
    {
     "name": "stdout",
     "output_type": "stream",
     "text": [
      "Enter Your Email: jjgjkdhsksd@gmail.com\n",
      "Your user name is 'jjgjkdhsksd' and your domain is 'gmail.com'\n"
     ]
    }
   ],
   "source": [
    "email = input(\"Enter Your Email: \").strip()\n",
    "# strip() function is used to remove leading and trailing whitespace characters (spaces, tabs, newlines) \n",
    "\n",
    "username = email[:email.index(\"@\")]\n",
    "domain_name = email[email.index(\"@\")+1:]\n",
    "'''index() function is used to find the index of the first occurrence of a specified value \n",
    "    within a sequence (such as a string, list, tuple, etc.). \n",
    "    If the specified value is not found in the sequence, it raises a ValueError.'''\n",
    "\n",
    "format_ = (f\"Your user name is '{username}' and your domain is '{domain_name}'\")\n",
    "print(format_)"
   ]
  },
  {
   "cell_type": "markdown",
   "metadata": {},
   "source": [
    "### Create Story Generator"
   ]
  },
  {
   "cell_type": "code",
   "execution_count": 8,
   "metadata": {},
   "outputs": [
    {
     "name": "stdout",
     "output_type": "stream",
     "text": [
      "A long time ago, a mouse that lived in Venice, went to the school and solved a mistery\n"
     ]
    },
    {
     "data": {
      "text/plain": [
       "\"random.choice() is a function in Python's random module used to \\nselect a random item from a sequence such as a list, tuple, or string\""
      ]
     },
     "execution_count": 8,
     "metadata": {},
     "output_type": "execute_result"
    }
   ],
   "source": [
    "import random\n",
    "when = ['A few years ago', 'Yesterday', 'Last night', 'A long time ago','On 20th Jan']\n",
    "who = ['a rabbit', 'an elephant', 'a mouse', 'a turtle','a cat']\n",
    "name = ['Ali', 'Miriam','daniel', 'Hoouk', 'Starwalker']\n",
    "residence = ['Barcelona','India', 'Germany', 'Venice', 'England']\n",
    "went = ['cinema', 'university','seminar', 'school', 'laundry']\n",
    "happened = ['made a lot of friends','ate a burger', 'found a secret key', 'solved a mistery', 'wrote a book']\n",
    "\n",
    "print(random.choice(when) + ', ' + random.choice(who) + ' that lived in ' + \n",
    "      random.choice(residence) + ', went to the ' + random.choice(went) + ' and ' + random.choice(happened))\n",
    "\n",
    "'''random.choice() is a function in Python's random module used to \n",
    "select a random item from a sequence such as a list, tuple, or string'''\n"
   ]
  },
  {
   "cell_type": "markdown",
   "metadata": {},
   "source": []
  },
  {
   "cell_type": "code",
   "execution_count": null,
   "metadata": {},
   "outputs": [],
   "source": []
  },
  {
   "cell_type": "code",
   "execution_count": null,
   "metadata": {},
   "outputs": [],
   "source": []
  }
 ],
 "metadata": {
  "colab": {
   "collapsed_sections": [],
   "provenance": []
  },
  "kernelspec": {
   "display_name": "Python 3 (ipykernel)",
   "language": "python",
   "name": "python3"
  },
  "language_info": {
   "codemirror_mode": {
    "name": "ipython",
    "version": 3
   },
   "file_extension": ".py",
   "mimetype": "text/x-python",
   "name": "python",
   "nbconvert_exporter": "python",
   "pygments_lexer": "ipython3",
   "version": "3.11.5"
  }
 },
 "nbformat": 4,
 "nbformat_minor": 1
}
